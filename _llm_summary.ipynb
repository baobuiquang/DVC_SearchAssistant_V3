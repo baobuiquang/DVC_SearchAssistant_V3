{
 "cells": [
  {
   "cell_type": "code",
   "execution_count": null,
   "id": "8958b979",
   "metadata": {},
   "outputs": [],
   "source": [
    "from pkg.LLM.LLM import Process_LLM\n",
    "import json\n",
    "import time\n",
    "with open('static/DATA.json', 'r', encoding='utf-8') as f:\n",
    "    data = json.load(f)"
   ]
  },
  {
   "cell_type": "code",
   "execution_count": null,
   "id": "19398dc8",
   "metadata": {},
   "outputs": [],
   "source": [
    "datapool = 'DVC_TTHC_LamDong'\n",
    "\n",
    "count = 0\n",
    "ls_tthcs = data[datapool]['data']\n",
    "for i in range(len(ls_tthcs)):\n",
    "    # if i==79 or i==80 or i==81:\n",
    "        if 'Thành phần hồ sơ' not in ls_tthcs[i]['summary']:\n",
    "            tenthutuc     = ls_tthcs[i]['name']\n",
    "            thanhphanhoso = ls_tthcs[i]['content']['Thành phần hồ sơ']\n",
    "            prompt = f\"\"\"\\\n",
    "Tóm tắt văn bản sau thành 1 đoạn văn (tối đa 100 từ, không định dạng):\n",
    "\n",
    "\\\"\\\"\\\"\n",
    "Thủ tục: {tenthutuc}\n",
    "Thành phần hồ sơ:\n",
    "{thanhphanhoso}\n",
    "\\\"\\\"\\\"\n",
    "\"\"\"\n",
    "            llmres = Process_LLM(prompt)\n",
    "            data[datapool]['data'][i]['summary']['Thành phần hồ sơ'] = llmres.strip()\n",
    "        \n",
    "            count += 1\n",
    "            if count % 10 == 0:\n",
    "                print(count)\n",
    "                with open('static/DATA.json', 'w', encoding='utf-8') as f:\n",
    "                    json.dump(data, f, ensure_ascii=False, indent=4)\n",
    "            time.sleep(5)"
   ]
  }
 ],
 "metadata": {
  "kernelspec": {
   "display_name": "_venv",
   "language": "python",
   "name": "python3"
  },
  "language_info": {
   "codemirror_mode": {
    "name": "ipython",
    "version": 3
   },
   "file_extension": ".py",
   "mimetype": "text/x-python",
   "name": "python",
   "nbconvert_exporter": "python",
   "pygments_lexer": "ipython3",
   "version": "3.13.3"
  }
 },
 "nbformat": 4,
 "nbformat_minor": 5
}
