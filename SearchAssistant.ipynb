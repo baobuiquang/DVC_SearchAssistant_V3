{
 "cells": [
  {
   "cell_type": "code",
   "execution_count": 1,
   "id": "39065967",
   "metadata": {},
   "outputs": [],
   "source": [
    "import json\n",
    "with open(\"static/DATA.json\", mode=\"r\", encoding=\"utf-8\") as f:\n",
    "    DATA = json.load(f)\n",
    "ldg_names = [e[\"name\"] for e in DATA[\"DVC_TTHC_LamDong\"][\"data\"]]\n",
    "lsn_names = [e[\"name\"] for e in DATA[\"DVC_TTHC_LangSon\"][\"data\"]]"
   ]
  },
  {
   "cell_type": "code",
   "execution_count": 4,
   "id": "8edb4882",
   "metadata": {},
   "outputs": [],
   "source": [
    "# from pkg.HYSE.HYSE import HYSE_EngineHybrid"
   ]
  }
 ],
 "metadata": {
  "kernelspec": {
   "display_name": "_venv",
   "language": "python",
   "name": "python3"
  },
  "language_info": {
   "codemirror_mode": {
    "name": "ipython",
    "version": 3
   },
   "file_extension": ".py",
   "mimetype": "text/x-python",
   "name": "python",
   "nbconvert_exporter": "python",
   "pygments_lexer": "ipython3",
   "version": "3.11.3"
  }
 },
 "nbformat": 4,
 "nbformat_minor": 5
}
