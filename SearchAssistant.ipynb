{
 "cells": [
  {
   "cell_type": "code",
   "execution_count": null,
   "id": "39065967",
   "metadata": {},
   "outputs": [],
   "source": [
    "import json\n",
    "with open(\"static/DATA.json\", mode=\"r\", encoding=\"utf-8\") as f:\n",
    "    DATA = json.load(f)\n",
    "ldg_names = [e[\"name\"] for e in DATA[\"DVC_TTHC_LamDong\"][\"data\"]]\n",
    "lsn_names = [e[\"name\"] for e in DATA[\"DVC_TTHC_LangSon\"][\"data\"]]"
   ]
  },
  {
   "cell_type": "code",
   "execution_count": null,
   "id": "8edb4882",
   "metadata": {},
   "outputs": [],
   "source": [
    "from pkg.HYSE.HYSE import HYSE_EngineHybrid"
   ]
  },
  {
   "cell_type": "code",
   "execution_count": null,
   "id": "b5e8488d",
   "metadata": {},
   "outputs": [],
   "source": [
    "hyse_engine_lsn = HYSE_EngineHybrid(name=\"DVC_TTHC_LangSon\")\n",
    "hyse_engine_lsn.update(lsn_names)\n",
    "hyse_engine_lsn.search([\"Tôi muốn thành lập công ty thì cần phải làm gì?\"])"
   ]
  },
  {
   "cell_type": "code",
   "execution_count": null,
   "id": "659967b0",
   "metadata": {},
   "outputs": [],
   "source": [
    "hyse_engine_ldg = HYSE_EngineHybrid(name=\"DVC_TTHC_LamDong\")\n",
    "hyse_engine_ldg.update(ldg_names)\n",
    "hyse_engine_ldg.search([\"Tôi muốn thành lập công ty thì cần phải làm gì?\"])"
   ]
  }
 ],
 "metadata": {
  "kernelspec": {
   "display_name": "_venv",
   "language": "python",
   "name": "python3"
  },
  "language_info": {
   "codemirror_mode": {
    "name": "ipython",
    "version": 3
   },
   "file_extension": ".py",
   "mimetype": "text/x-python",
   "name": "python",
   "nbconvert_exporter": "python",
   "pygments_lexer": "ipython3",
   "version": "3.11.3"
  }
 },
 "nbformat": 4,
 "nbformat_minor": 5
}
